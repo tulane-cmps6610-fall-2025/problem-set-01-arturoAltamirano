{
 "cells": [
  {
   "cell_type": "code",
   "execution_count": 31,
   "id": "68ad84ed",
   "metadata": {},
   "outputs": [
    {
     "name": "stdout",
     "output_type": "stream",
     "text": [
      "returned value = 2, counter element = 1\n"
     ]
    }
   ],
   "source": [
    "def foo(a, b, counter):\n",
    "    if a == 0:\n",
    "        #print(\"a = 0\")\n",
    "        #print(f\"Counter: {counter}\")\n",
    "        return (int(b), int(counter))\n",
    "    \n",
    "    elif b == 0: \n",
    "        #print(\"b = 0\")\n",
    "        #print(f\"Counter: {counter}\")\n",
    "        return (int(a), int(counter))\n",
    "    \n",
    "    else:\n",
    "        counter += 1\n",
    "        #let (x,y) = (min(a,b), max(a,b))\n",
    "        (x,y) = (min(a,b), max(a,b))\n",
    "\n",
    "        #print(x,y)\n",
    "\n",
    "        #recursive call, need to use return\n",
    "        return foo(y, y % x, counter)\n",
    "\n",
    "\n",
    "(returned_value, counter) = foo(1, 2 , 0)\n",
    "\n",
    "print(f\"returned value = {returned_value}, counter element = {counter}\")"
   ]
  },
  {
   "cell_type": "code",
   "execution_count": null,
   "id": "01239919",
   "metadata": {},
   "outputs": [
    {
     "name": "stdout",
     "output_type": "stream",
     "text": [
      "3\n"
     ]
    },
    {
     "data": {
      "text/plain": [
       "True"
      ]
     },
     "execution_count": 30,
     "metadata": {},
     "output_type": "execute_result"
    }
   ],
   "source": [
    "#O(n) work and span \n",
    "def longest_run(mylist, key):\n",
    "    counters = []\n",
    "    counter = 0\n",
    "    #iterate by index to access individual elements\n",
    "    for x in range(len(mylist)):\n",
    "\n",
    "        #increment a counter and lazily append every match increment to the list\n",
    "        if mylist[x] == key:\n",
    "            counter += 1\n",
    "            counters.append(counter)\n",
    "\n",
    "        #streaks been broken so reset to 0 \n",
    "        else:\n",
    "            counter = 0\n",
    "\n",
    "    #just return the highest count we reached\n",
    "    return max(counters)\n",
    "\n",
    "print(longest_run([2,12,12,8,12,12,12,0,12,1], 12))\n",
    "longest_run([2,12,12,8,12,12,12,0,12,1], 12) == 3\n",
    "\n",
    "#print(longest_run([1, 1, 1, 1, 1], 1))\n",
    "#print(longest_run([1, 0, 1, 1, 0], 1))\n",
    "#print(longest_run([1, 3, 1, 1, 5, 2, 4, 999, 2, 4, 5, 6, 7, 1, 1, 1, 3, 6, 3], 1))"
   ]
  },
  {
   "cell_type": "code",
   "execution_count": 33,
   "id": "c26d4899",
   "metadata": {},
   "outputs": [
    {
     "name": "stdout",
     "output_type": "stream",
     "text": [
      "[2, 12, 12, 8, 12]\n",
      "[12, 12, 0, 12, 1]\n",
      "no longer divisible... left = 2 and right = 2\n",
      "None\n"
     ]
    }
   ],
   "source": [
    "class Result:\n",
    "    \"\"\" done \"\"\"\n",
    "    def __init__(self, left_size, right_size, longest_size, is_entire_range):\n",
    "        self.left_size = left_size              # the length of the longest run on left side of input\n",
    "                                                # eg, with a key of 12, [12 12 3] has left_size of 2 \n",
    "        self.right_size = right_size            # length of longest run on right side of input\n",
    "                                                # eg, key 12, [3 12 12] has right_size of 2\n",
    "        self.longest_size = longest_size        # length of longest run in input\n",
    "                                                # eg, [12 12 4 12 12 12]: longest_size is 3\n",
    "        self.is_entire_range = is_entire_range  # True if the entire input matches the key\n",
    "        \n",
    "    def __repr__(self):\n",
    "        return('longest_size=%d left_size=%d right_size=%d is_entire_range=%s' %\n",
    "              (self.longest_size, self.left_size, self.right_size, self.is_entire_range))\n",
    "    \n",
    "    \n",
    "def longest_run_recursive(mylist, key):\n",
    "    #get the mid point value\n",
    "    mid = int(len(mylist) / 2)\n",
    "\n",
    "    #index by the midpoint\n",
    "    left = mylist[0 : mid]\n",
    "    right = mylist[mid :]\n",
    "\n",
    "    print(left)\n",
    "    print(right)\n",
    "\n",
    "    if len(left) % 2 == 0:\n",
    "        print(len(left))\n",
    "        #return longest_run_recursive\n",
    "\n",
    "    elif len(right) % 2 == 0:\n",
    "        print(len(right))\n",
    "        #return longest_run_recursive\n",
    "\n",
    "    else:\n",
    "        left_run = longest_run(left, key)\n",
    "        right_run = longest_run(right, key)\n",
    "\n",
    "        print(f\"no longer divisible... left = {left_run} and right = {right_run}\")\n",
    "\n",
    "    #print(Result(1, 2, 4, False))\n",
    "\n",
    "print(longest_run_recursive([2,12,12,8,12,12,12,0,12,1], 12))\n",
    "#longest_run_recursive([2,12,12,8,12,12,12,0,12,1], 12) == 3"
   ]
  }
 ],
 "metadata": {
  "kernelspec": {
   "display_name": "Python 3",
   "language": "python",
   "name": "python3"
  },
  "language_info": {
   "codemirror_mode": {
    "name": "ipython",
    "version": 3
   },
   "file_extension": ".py",
   "mimetype": "text/x-python",
   "name": "python",
   "nbconvert_exporter": "python",
   "pygments_lexer": "ipython3",
   "version": "3.9.6"
  }
 },
 "nbformat": 4,
 "nbformat_minor": 5
}
