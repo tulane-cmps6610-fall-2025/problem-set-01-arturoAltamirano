{
 "cells": [
  {
   "cell_type": "code",
   "execution_count": 15,
   "id": "68ad84ed",
   "metadata": {},
   "outputs": [
    {
     "name": "stdout",
     "output_type": "stream",
     "text": [
      "2\n"
     ]
    }
   ],
   "source": [
    "def foo(a, b):\n",
    "    if a == 0:\n",
    "        #print(\"a = 0\")\n",
    "        return int(b)\n",
    "    \n",
    "    elif b == 0: \n",
    "        #print(\"b = 0\")\n",
    "        return int(a)\n",
    "    \n",
    "    else:\n",
    "        #let (x,y) = (min(a,b), max(a,b))\n",
    "        (x,y) = (min(a,b), max(a,b))\n",
    "\n",
    "        #print(x,y)\n",
    "\n",
    "        #recursive call, need to use return\n",
    "        return foo(y, y % x)\n",
    "\n",
    "\n",
    "returned_value = foo(1,2)\n",
    "\n",
    "print(returned_value)"
   ]
  },
  {
   "cell_type": "code",
   "execution_count": null,
   "id": "01239919",
   "metadata": {},
   "outputs": [
    {
     "name": "stdout",
     "output_type": "stream",
     "text": [
      "3\n"
     ]
    },
    {
     "data": {
      "text/plain": [
       "True"
      ]
     },
     "execution_count": 4,
     "metadata": {},
     "output_type": "execute_result"
    }
   ],
   "source": [
    "#slow and wasteful but functional\n",
    "def longest_run(mylist, key):\n",
    "    counters = []\n",
    "    for x in range(len(mylist)):\n",
    "\n",
    "        if mylist[x] == key:\n",
    "            counter += 1\n",
    "            counters.append(counter)\n",
    "\n",
    "        else:\n",
    "            counter = 0\n",
    "\n",
    "    return max(counters)\n",
    "\n",
    "print(longest_run([2,12,12,8,12,12,12,0,12,1], 12))\n",
    "\n",
    "longest_run([2,12,12,8,12,12,12,0,12,1], 12) == 3"
   ]
  },
  {
   "cell_type": "code",
   "execution_count": null,
   "id": "c26d4899",
   "metadata": {},
   "outputs": [],
   "source": []
  }
 ],
 "metadata": {
  "kernelspec": {
   "display_name": "Python 3",
   "language": "python",
   "name": "python3"
  },
  "language_info": {
   "codemirror_mode": {
    "name": "ipython",
    "version": 3
   },
   "file_extension": ".py",
   "mimetype": "text/x-python",
   "name": "python",
   "nbconvert_exporter": "python",
   "pygments_lexer": "ipython3",
   "version": "3.9.6"
  }
 },
 "nbformat": 4,
 "nbformat_minor": 5
}
