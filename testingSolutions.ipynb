{
 "cells": [
  {
   "cell_type": "code",
   "execution_count": 1,
   "id": "68ad84ed",
   "metadata": {},
   "outputs": [
    {
     "name": "stdout",
     "output_type": "stream",
     "text": [
      "2\n"
     ]
    }
   ],
   "source": [
    "def foo(a, b):\n",
    "    if a == 0:\n",
    "        #print(\"a = 0\")\n",
    "        return int(b)\n",
    "    \n",
    "    elif b == 0: \n",
    "        #print(\"b = 0\")\n",
    "        return int(a)\n",
    "    \n",
    "    else:\n",
    "        #let (x,y) = (min(a,b), max(a,b))\n",
    "        (x,y) = (min(a,b), max(a,b))\n",
    "\n",
    "        #print(x,y)\n",
    "\n",
    "        #recursive call, need to use return\n",
    "        return foo(y, y % x)\n",
    "\n",
    "\n",
    "returned_value = foo(1,2)\n",
    "\n",
    "print(returned_value)"
   ]
  },
  {
   "cell_type": "code",
   "execution_count": 4,
   "id": "01239919",
   "metadata": {},
   "outputs": [
    {
     "name": "stdout",
     "output_type": "stream",
     "text": [
      "3\n"
     ]
    },
    {
     "data": {
      "text/plain": [
       "True"
      ]
     },
     "execution_count": 4,
     "metadata": {},
     "output_type": "execute_result"
    }
   ],
   "source": [
    "def longest_run(mylist, key):\n",
    "    counters = []\n",
    "    #iterate by index to access individual elements\n",
    "    for x in range(len(mylist)):\n",
    "\n",
    "        #increment a counter and lazily append every match increment to the list\n",
    "        if mylist[x] == key:\n",
    "            counter += 1\n",
    "            counters.append(counter)\n",
    "\n",
    "        #streaks been broken so reset to 0 \n",
    "        else:\n",
    "            counter = 0\n",
    "\n",
    "    #just return the highest count we reached\n",
    "    return max(counters)\n",
    "\n",
    "print(longest_run([2,12,12,8,12,12,12,0,12,1], 12))\n",
    "longest_run([2,12,12,8,12,12,12,0,12,1], 12) == 3"
   ]
  },
  {
   "cell_type": "code",
   "execution_count": 3,
   "id": "c26d4899",
   "metadata": {},
   "outputs": [
    {
     "name": "stdout",
     "output_type": "stream",
     "text": [
      "None\n"
     ]
    }
   ],
   "source": [
    "class Result:\n",
    "    \"\"\" done \"\"\"\n",
    "    def __init__(self, left_size, right_size, longest_size, is_entire_range):\n",
    "        self.left_size = left_size              # the length of the longest run on left side of input\n",
    "                                                # eg, with a key of 12, [12 12 3] has left_size of 2 \n",
    "        self.right_size = right_size            # length of longest run on right side of input\n",
    "                                                # eg, key 12, [3 12 12] has right_size of 2\n",
    "        self.longest_size = longest_size        # length of longest run in input\n",
    "                                                # eg, [12 12 4 12 12 12]: longest_size is 3\n",
    "        self.is_entire_range = is_entire_range  # True if the entire input matches the key\n",
    "        \n",
    "    def __repr__(self):\n",
    "        return('longest_size=%d left_size=%d right_size=%d is_entire_range=%s' %\n",
    "              (self.longest_size, self.left_size, self.right_size, self.is_entire_range))\n",
    "    \n",
    "    \n",
    "def longest_run_recursive(mylist, key):\n",
    "    pass\n",
    "\n",
    "print(longest_run_recursive([2,12,12,8,12,12,12,0,12,1], 12))\n",
    "#longest_run_recursive([2,12,12,8,12,12,12,0,12,1], 12) == 3"
   ]
  }
 ],
 "metadata": {
  "kernelspec": {
   "display_name": "tensorflowintel",
   "language": "python",
   "name": "python3"
  },
  "language_info": {
   "codemirror_mode": {
    "name": "ipython",
    "version": 3
   },
   "file_extension": ".py",
   "mimetype": "text/x-python",
   "name": "python",
   "nbconvert_exporter": "python",
   "pygments_lexer": "ipython3",
   "version": "3.11.13"
  }
 },
 "nbformat": 4,
 "nbformat_minor": 5
}
